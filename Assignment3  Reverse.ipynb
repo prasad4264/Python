{
 "cells": [
  {
   "cell_type": "code",
   "execution_count": 1,
   "id": "7ad4670c",
   "metadata": {},
   "outputs": [
    {
     "name": "stdout",
     "output_type": "stream",
     "text": [
      "Taken input string :  Welcome1\n",
      "Expected output :  1emocleW \n",
      " \n"
     ]
    }
   ],
   "source": [
    "def reversing(s):\n",
    "    string1 = \" \"\n",
    "    for i in s:\n",
    "        string1 = i + string1\n",
    "    print(\"Taken input string : \", a)\n",
    "    print(\"Expected output : \", string1)\n",
    "    return \" \"\n",
    "a = \"Welcome1\"\n",
    "print(reversing(a))"
   ]
  },
  {
   "cell_type": "code",
   "execution_count": null,
   "id": "33da3455",
   "metadata": {},
   "outputs": [],
   "source": []
  }
 ],
 "metadata": {
  "kernelspec": {
   "display_name": "Python 3 (ipykernel)",
   "language": "python",
   "name": "python3"
  },
  "language_info": {
   "codemirror_mode": {
    "name": "ipython",
    "version": 3
   },
   "file_extension": ".py",
   "mimetype": "text/x-python",
   "name": "python",
   "nbconvert_exporter": "python",
   "pygments_lexer": "ipython3",
   "version": "3.9.12"
  }
 },
 "nbformat": 4,
 "nbformat_minor": 5
}
