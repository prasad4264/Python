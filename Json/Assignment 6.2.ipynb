{
 "cells": [
  {
   "cell_type": "code",
   "execution_count": 3,
   "id": "c459da28",
   "metadata": {},
   "outputs": [
    {
     "name": "stdout",
     "output_type": "stream",
     "text": [
      "Jhonny\n",
      "10\n",
      "black and white\n",
      "Barking\n",
      "Black\n",
      "White\n",
      "Mia\n",
      "12\n",
      "2 feet\n",
      "something\n",
      "Snoopy\n",
      "05\n",
      "Black\n"
     ]
    }
   ],
   "source": [
    "class Dog:\n",
    "    def __init__(self,name,age,coat_color):\n",
    "        self.name = name\n",
    "        self.age = age\n",
    "        self.coat_color = coat_color\n",
    "    def description(self):\n",
    "        print(self.name)\n",
    "        print(self.age)\n",
    "    def get_info(self):\n",
    "        print(self.coat_color)\n",
    "class JackRussellTerrier(Dog):\n",
    "    def height(self):\n",
    "        print(\"2 feet\")\n",
    "    def bread(self):\n",
    "        print(\"something\")\n",
    "class Bulldog(Dog):\n",
    "    def Barking(self):\n",
    "        print(\"Barking\")\n",
    "    def skin(self):\n",
    "        print(\"Black\")\n",
    "\n",
    "c = Bulldog(\"Jhonny\",\"10\",\"black and white\")\n",
    "c.description()\n",
    "c.get_info()\n",
    "c.Barking()\n",
    "c.skin()\n",
    "d = JackRussellTerrier(\"Mia\",\"12\",\"White\")\n",
    "d.get_info()\n",
    "d.description()\n",
    "d.height()\n",
    "d.bread()\n",
    "e = Dog(\"Snoopy\",\"05\",\"Black\")\n",
    "e.description()\n",
    "e.get_info()"
   ]
  },
  {
   "cell_type": "code",
   "execution_count": null,
   "id": "eee2e116",
   "metadata": {},
   "outputs": [],
   "source": []
  }
 ],
 "metadata": {
  "kernelspec": {
   "display_name": "Python 3 (ipykernel)",
   "language": "python",
   "name": "python3"
  },
  "language_info": {
   "codemirror_mode": {
    "name": "ipython",
    "version": 3
   },
   "file_extension": ".py",
   "mimetype": "text/x-python",
   "name": "python",
   "nbconvert_exporter": "python",
   "pygments_lexer": "ipython3",
   "version": "3.9.12"
  }
 },
 "nbformat": 4,
 "nbformat_minor": 5
}
