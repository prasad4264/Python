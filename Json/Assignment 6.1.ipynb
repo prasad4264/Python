{
 "cells": [
  {
   "cell_type": "code",
   "execution_count": 7,
   "id": "81952722",
   "metadata": {},
   "outputs": [
    {
     "name": "stdout",
     "output_type": "stream",
     "text": [
      "Enter number of employees data need to store : 5\n",
      "Enter Employee Name : Prasad\n",
      "Enter date of birth of the employee : 04-10-1999\n",
      "Enter the height of employee : 5.6\n",
      "Enter the city of an Employee : Vizag\n",
      "Enter employee state name : AP\n",
      "Enter Employee Name : Sunny\n",
      "Enter date of birth of the employee : 10-10-1998\n",
      "Enter the height of employee : 5\n",
      "Enter the city of an Employee : Jhonny\n",
      "Enter employee state name : Goa\n",
      "Enter Employee Name : Mia\n",
      "Enter date of birth of the employee : 20-09-1999\n",
      "Enter the height of employee : 5.7\n",
      "Enter the city of an Employee : Vizag\n",
      "Enter employee state name : AP\n",
      "Enter Employee Name : Izzy\n",
      "Enter date of birth of the employee : 05-05-1997\n",
      "Enter the height of employee : 6\n",
      "Enter the city of an Employee : California\n",
      "Enter employee state name : Los Angels\n",
      "Enter Employee Name : Jhonny\n",
      "Enter date of birth of the employee : 01-02-1989\n",
      "Enter the height of employee : 6.1\n",
      "Enter the city of an Employee : Hyd\n",
      "Enter employee state name : Telangana\n",
      "{1: {'Name': 'Prasad', 'DOB': '04-10-1999', 'Height': '5.6', 'City': 'Vizag', 'State': 'AP'}, 2: {'Name': 'Sunny', 'DOB': '10-10-1998', 'Height': '5', 'City': 'Jhonny', 'State': 'Goa'}, 3: {'Name': 'Mia', 'DOB': '20-09-1999', 'Height': '5.7', 'City': 'Vizag', 'State': 'AP'}, 4: {'Name': 'Izzy', 'DOB': '05-05-1997', 'Height': '6', 'City': 'California', 'State': 'Los Angels'}, 5: {'Name': 'Jhonny', 'DOB': '01-02-1989', 'Height': '6.1', 'City': 'Hyd', 'State': 'Telangana'}}\n",
      "----------------------------------Data added successfully-----------------------------------------------\n",
      "-------------------------------------Employees Data----------------------------------------------------\n",
      "{'Name': 'Prasad', 'DOB': '04-10-1999', 'Height': '5.6', 'City': 'Vizag', 'State': 'AP'}\n",
      "{'Name': 'Sunny', 'DOB': '10-10-1998', 'Height': '5', 'City': 'Jhonny', 'State': 'Goa'}\n",
      "{'Name': 'Mia', 'DOB': '20-09-1999', 'Height': '5.7', 'City': 'Vizag', 'State': 'AP'}\n",
      "{'Name': 'Izzy', 'DOB': '05-05-1997', 'Height': '6', 'City': 'California', 'State': 'Los Angels'}\n",
      "{'Name': 'Jhonny', 'DOB': '01-02-1989', 'Height': '6.1', 'City': 'Hyd', 'State': 'Telangana'}\n",
      "----------------------------------Data Readed successfully-----------------------------------------------\n"
     ]
    }
   ],
   "source": [
    "import json\n",
    "def Employees():\n",
    "    employees_data = {}\n",
    "    n = int(input(\"Enter number of employees data need to store : \"))\n",
    "    for i in range(1,n+1):\n",
    "        Employee_Name = input(\"Enter Employee Name : \")\n",
    "        Employee_DOB = input(\"Enter date of birth of the employee : \")\n",
    "        Employee_Height = input(\"Enter the height of employee : \")\n",
    "        Employee_City = input(\"Enter the city of an Employee : \")\n",
    "        Employee_State = input(\"Enter employee state name : \")\n",
    "        Employee_details = {\"Name\":Employee_Name,\"DOB\":Employee_DOB,\"Height\":Employee_Height,\"City\":Employee_City,\"State\":Employee_State}\n",
    "        employee_details_id = len(employees_data)+1\n",
    "        employees_data[employee_details_id] = Employee_details\n",
    "    print(employees_data)\n",
    "    with open (\"Employees_Information.json\",\"w\") as f:\n",
    "        json.dump(employees_data,f)\n",
    "    return \"----------------------------------Data added successfully-----------------------------------------------\"\n",
    "def Employee_data():\n",
    "    print(\"-------------------------------------Employees Data----------------------------------------------------\")\n",
    "    with open(\"Employees_Information.json\",\"r\") as d:\n",
    "        x = json.load(d)\n",
    "    for i in x.values():\n",
    "        print(i)\n",
    "    \n",
    "    return \"----------------------------------Data Readed successfully-----------------------------------------------\"\n",
    "\n",
    "print(Employees())\n",
    "print(Employee_data())  "
   ]
  },
  {
   "cell_type": "code",
   "execution_count": 9,
   "id": "bbd426b8",
   "metadata": {},
   "outputs": [
    {
     "name": "stdout",
     "output_type": "stream",
     "text": [
      "---------------------------------------successfully imported----------------------------------------\n",
      "Andhra Pradesh - Amaravathi\n",
      "Hyderabad - Telangana\n",
      "Sikkim - Gangtok\n",
      "Goa - Panaji\n",
      "Maharastra - Mumbai\n",
      "WestBengal - Kolkata\n",
      "UttarPradesh - Lucknow\n",
      "-----------------------------------------successfully got the details-----------------------------------------\n"
     ]
    }
   ],
   "source": [
    "import json\n",
    "def states_capitals():\n",
    "    information = {\"Andhra Pradesh\":\"Amaravathi\",\"Hyderabad\":\"Telangana\",\"Sikkim\":\"Gangtok\",\"Goa\":\"Panaji\",\"Maharastra\":\"Mumbai\",\"WestBengal\":\"Kolkata\",\"UttarPradesh\":\"Lucknow\"}\n",
    "    with open(\"states_capitals.json\",\"w\") as f:\n",
    "        json.dump(information,f)\n",
    "    return \"---------------------------------------successfully imported----------------------------------------\"\n",
    "def information():\n",
    "    with open(\"states_capitals.json\",\"r\") as f:\n",
    "        x = json.load(f)\n",
    "    for k,v in x.items():\n",
    "        c = ((k) + \" - \" +(v))\n",
    "        print(c)\n",
    "    return \"-----------------------------------------successfully got the details-----------------------------------------\"\n",
    "        \n",
    "print(states_capitals())\n",
    "print(information())\n"
   ]
  },
  {
   "cell_type": "code",
   "execution_count": null,
   "id": "6928ae29",
   "metadata": {},
   "outputs": [],
   "source": []
  }
 ],
 "metadata": {
  "kernelspec": {
   "display_name": "Python 3 (ipykernel)",
   "language": "python",
   "name": "python3"
  },
  "language_info": {
   "codemirror_mode": {
    "name": "ipython",
    "version": 3
   },
   "file_extension": ".py",
   "mimetype": "text/x-python",
   "name": "python",
   "nbconvert_exporter": "python",
   "pygments_lexer": "ipython3",
   "version": "3.9.12"
  }
 },
 "nbformat": 4,
 "nbformat_minor": 5
}
