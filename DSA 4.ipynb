{
 "cells": [
  {
   "cell_type": "code",
   "execution_count": 16,
   "id": "1206c04c",
   "metadata": {},
   "outputs": [
    {
     "name": "stdout",
     "output_type": "stream",
     "text": [
      "The peak elements which are greater than it's neighbours :\n",
      "60\n",
      "97\n",
      "50\n"
     ]
    }
   ],
   "source": [
    "# Peak Elements\n",
    "\n",
    "def Peak_elements(l):\n",
    "    l1=[]\n",
    "    n=len(l)\n",
    "    if l[0]>l[1]:\n",
    "        l1.append(l[0])\n",
    "    if l[n-1]>l[n-2]:\n",
    "        l1.append(l[n-1])\n",
    "    if True:\n",
    "        for i in range(1,n-1):\n",
    "            if l[i-1]<l[i] and l[i+1]<l[i]:\n",
    "                l1.append(l[i])\n",
    "        print(\"The peak elements which are greater than it's neighbours :\")\n",
    "    for i in l1:\n",
    "        print(i)\n",
    "l=[60, 20, 15,50, 2, 23, 90, 97]\n",
    "Peak_elements(l)"
   ]
  },
  {
   "cell_type": "code",
   "execution_count": null,
   "id": "838bc94d",
   "metadata": {},
   "outputs": [],
   "source": []
  }
 ],
 "metadata": {
  "kernelspec": {
   "display_name": "Python 3 (ipykernel)",
   "language": "python",
   "name": "python3"
  },
  "language_info": {
   "codemirror_mode": {
    "name": "ipython",
    "version": 3
   },
   "file_extension": ".py",
   "mimetype": "text/x-python",
   "name": "python",
   "nbconvert_exporter": "python",
   "pygments_lexer": "ipython3",
   "version": "3.9.12"
  }
 },
 "nbformat": 4,
 "nbformat_minor": 5
}
