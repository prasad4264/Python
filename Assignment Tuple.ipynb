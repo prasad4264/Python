{
 "cells": [
  {
   "cell_type": "code",
   "execution_count": 5,
   "id": "629395ef",
   "metadata": {},
   "outputs": [
    {
     "name": "stdout",
     "output_type": "stream",
     "text": [
      "[2, 3, 5, 6, 7]\n",
      "[(4, 2), (6, 3), (9, 5), (1, 6), (3, 7)]\n"
     ]
    }
   ],
   "source": [
    "list1 = [(4,2),(6,3),(3,7),(9,5),(1,6)]\n",
    "list2= []\n",
    "list3=[]\n",
    "for i in list1:\n",
    "    list2.append(i[1],)\n",
    "list2.sort()\n",
    "print(list2)\n",
    "for j in list2:\n",
    "    for q in list1:\n",
    "        if j ==int(q[1],):\n",
    "            list3.append(q)\n",
    "print(list3)"
   ]
  },
  {
   "cell_type": "code",
   "execution_count": null,
   "id": "bf857cac",
   "metadata": {},
   "outputs": [],
   "source": []
  }
 ],
 "metadata": {
  "kernelspec": {
   "display_name": "Python 3 (ipykernel)",
   "language": "python",
   "name": "python3"
  },
  "language_info": {
   "codemirror_mode": {
    "name": "ipython",
    "version": 3
   },
   "file_extension": ".py",
   "mimetype": "text/x-python",
   "name": "python",
   "nbconvert_exporter": "python",
   "pygments_lexer": "ipython3",
   "version": "3.9.12"
  }
 },
 "nbformat": 4,
 "nbformat_minor": 5
}
