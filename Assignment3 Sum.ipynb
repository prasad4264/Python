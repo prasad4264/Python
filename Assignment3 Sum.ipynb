{
 "cells": [
  {
   "cell_type": "code",
   "execution_count": 1,
   "id": "b1265261",
   "metadata": {},
   "outputs": [
    {
     "name": "stdout",
     "output_type": "stream",
     "text": [
      "Taken input is:  [1, 2, 3, 4, 5, 6, 7]\n",
      "Expected output is :  28\n",
      " \n"
     ]
    }
   ],
   "source": [
    "def summation(list1):\n",
    "    sum1 = 0\n",
    "    for i in list1:\n",
    "        sum1 += i\n",
    "    print(\"Taken input is: \", list1)\n",
    "    print(\"Expected output is : \", sum1)\n",
    "    return \" \"\n",
    "list1 = [1,2,3,4,5,6,7]\n",
    "print(summation(list1))\n"
   ]
  },
  {
   "cell_type": "code",
   "execution_count": null,
   "id": "82ece2b7",
   "metadata": {},
   "outputs": [],
   "source": []
  }
 ],
 "metadata": {
  "kernelspec": {
   "display_name": "Python 3 (ipykernel)",
   "language": "python",
   "name": "python3"
  },
  "language_info": {
   "codemirror_mode": {
    "name": "ipython",
    "version": 3
   },
   "file_extension": ".py",
   "mimetype": "text/x-python",
   "name": "python",
   "nbconvert_exporter": "python",
   "pygments_lexer": "ipython3",
   "version": "3.9.12"
  }
 },
 "nbformat": 4,
 "nbformat_minor": 5
}
