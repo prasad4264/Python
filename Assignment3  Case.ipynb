{
 "cells": [
  {
   "cell_type": "code",
   "execution_count": 2,
   "id": "2c4a3b7c",
   "metadata": {},
   "outputs": [
    {
     "name": "stdout",
     "output_type": "stream",
     "text": [
      "Count of Uppercase : 2\n",
      "Count of Lowercase : 8\n",
      "\n"
     ]
    }
   ],
   "source": [
    "def required(a):\n",
    "    uppercase = 0\n",
    "    lowercase = 0\n",
    "    for i in a:\n",
    "        if i.isupper():\n",
    "            uppercase = uppercase + 1\n",
    "        elif i.islower():\n",
    "            lowercase  = lowercase + 1\n",
    "        else:\n",
    "            pass\n",
    "    print(\"Count of Uppercase :\", uppercase)\n",
    "    print(\"Count of Lowercase :\", lowercase)\n",
    "    return \"\"\n",
    "print(required(\"Hello World\"))\n"
   ]
  },
  {
   "cell_type": "code",
   "execution_count": null,
   "id": "1990b7bc",
   "metadata": {},
   "outputs": [],
   "source": []
  }
 ],
 "metadata": {
  "kernelspec": {
   "display_name": "Python 3 (ipykernel)",
   "language": "python",
   "name": "python3"
  },
  "language_info": {
   "codemirror_mode": {
    "name": "ipython",
    "version": 3
   },
   "file_extension": ".py",
   "mimetype": "text/x-python",
   "name": "python",
   "nbconvert_exporter": "python",
   "pygments_lexer": "ipython3",
   "version": "3.9.12"
  }
 },
 "nbformat": 4,
 "nbformat_minor": 5
}
