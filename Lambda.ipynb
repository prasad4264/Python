{
 "cells": [
  {
   "cell_type": "code",
   "execution_count": 3,
   "id": "a168579e",
   "metadata": {},
   "outputs": [
    {
     "name": "stdout",
     "output_type": "stream",
     "text": [
      "Enter your number : 10\n",
      "35\n"
     ]
    }
   ],
   "source": [
    "a = lambda x: x + 25\n",
    "x = int(input(\"Enter your number : \"))\n",
    "print(a(x))"
   ]
  },
  {
   "cell_type": "code",
   "execution_count": null,
   "id": "ac8ff738",
   "metadata": {},
   "outputs": [],
   "source": []
  }
 ],
 "metadata": {
  "kernelspec": {
   "display_name": "Python 3 (ipykernel)",
   "language": "python",
   "name": "python3"
  },
  "language_info": {
   "codemirror_mode": {
    "name": "ipython",
    "version": 3
   },
   "file_extension": ".py",
   "mimetype": "text/x-python",
   "name": "python",
   "nbconvert_exporter": "python",
   "pygments_lexer": "ipython3",
   "version": "3.9.12"
  }
 },
 "nbformat": 4,
 "nbformat_minor": 5
}
