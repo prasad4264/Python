{
 "cells": [
  {
   "cell_type": "code",
   "execution_count": 1,
   "id": "c51e4be4",
   "metadata": {},
   "outputs": [
    {
     "data": {
      "text/plain": [
       "35"
      ]
     },
     "execution_count": 1,
     "metadata": {},
     "output_type": "execute_result"
    }
   ],
   "source": [
    "# Challenge 1 SquareSum\n",
    "class Point:\n",
    "\n",
    "    def __init__(self,x,y,z):\n",
    "        self.x = x\n",
    "        self.y = y\n",
    "        self.z = z\n",
    "\n",
    "    def sqSum(self):\n",
    "        a = self.x**2\n",
    "        b = self.y**2\n",
    "        c = self.z**2\n",
    "        sum = a+b+c\n",
    "        return sum\n",
    "square = Point(1,3,5)\n",
    "square.sqSum()"
   ]
  },
  {
   "cell_type": "code",
   "execution_count": 3,
   "id": "b262e7a2",
   "metadata": {},
   "outputs": [
    {
     "name": "stdout",
     "output_type": "stream",
     "text": [
      "104\n",
      "84\n",
      "940\n",
      "9.4\n"
     ]
    }
   ],
   "source": [
    "# Challenge 2 Calculation\n",
    "class Calculator:\n",
    "\n",
    "    def __init__(self,num1,num2):\n",
    "        self.num1 = num1\n",
    "        self.num2 = num2\n",
    "    def add(self):\n",
    "        a = self.num1 + self.num2\n",
    "        return a\n",
    "    def subtract(self):\n",
    "        s = self.num2 - self.num1\n",
    "        return s\n",
    "    def multiply(self):\n",
    "        m = self.num1 * self.num2\n",
    "        return m\n",
    "    def divide(self):\n",
    "        d = self.num2/self.num1\n",
    "        return d\n",
    "calculation = Calculator(10,94)\n",
    "print(calculation.add())\n",
    "print(calculation.subtract())\n",
    "print(calculation.multiply())\n",
    "print(calculation.divide())"
   ]
  },
  {
   "cell_type": "code",
   "execution_count": 4,
   "id": "414e14f8",
   "metadata": {},
   "outputs": [
    {
     "name": "stdout",
     "output_type": "stream",
     "text": [
      "getName called\n",
      "PRASAD\n",
      "setName called\n",
      "Sunny\n",
      "getRollNumber called\n",
      "29\n",
      "setRollNumber called\n",
      "69\n"
     ]
    }
   ],
   "source": [
    "# Challenge 3 Student Details\n",
    "class Student:\n",
    "    __Name = \"PRASAD\"\n",
    "    __RollNumber = 29  \n",
    "    def getName(self):\n",
    "        print(\"getName called\")\n",
    "        print( Student.__Name)\n",
    "    def setName(self,N):\n",
    "        print(\"setName called\")\n",
    "        Student.__Name = N\n",
    "        print(Student.__Name)\n",
    "    def getRollNumber(self):\n",
    "        print(\"getRollNumber called\")\n",
    "        print( Student.__RollNumber)\n",
    "    def setRollNumber(self,R):\n",
    "        print(\"setRollNumber called\")\n",
    "        Student.__RollNumber = R\n",
    "        print(Student.__RollNumber)\n",
    "a = Student()\n",
    "a.getName()\n",
    "a.setName(\"Sunny\")\n",
    "a.getRollNumber()\n",
    "a.setRollNumber(69)"
   ]
  },
  {
   "cell_type": "code",
   "execution_count": 5,
   "id": "c7b301a4",
   "metadata": {},
   "outputs": [
    {
     "name": "stdout",
     "output_type": "stream",
     "text": [
      "MR Prasad your balance is : 1000\n",
      "MR Prasad  your balance is :  1000 and your intrest is :  5\n"
     ]
    }
   ],
   "source": [
    "# Challenge 4 Bank Account\n",
    "class Account:\n",
    "    def __init__(self,title = None,balance = 0):\n",
    "        self.title = title\n",
    "        self.balance = balance\n",
    "        print(\"MR\",str(self.title) + \" your balance is : \" +str(self.balance))\n",
    "class SavingsAccount(Account):\n",
    "    def __init__(self,title,balance,intrest):\n",
    "        super().__init__(title,balance)\n",
    "        self.intrest = intrest\n",
    "        print(\"MR\",str(self.title) + \"  your balance is :  \" +str(self.balance)+\" and your intrest is :  \"+str(self.intrest))\n",
    "Bank1 = SavingsAccount(\"Prasad\",1000,5)"
   ]
  },
  {
   "cell_type": "code",
   "execution_count": 10,
   "id": "9700d9e9",
   "metadata": {},
   "outputs": [
    {
     "name": "stdout",
     "output_type": "stream",
     "text": [
      "2500\n",
      "2000\n",
      "2000\n",
      "100\n"
     ]
    }
   ],
   "source": [
    "# Challenge 5 Handling Bank Account\n",
    "class Account:\n",
    "    def __init__(self, title=None, balance=0):\n",
    "        self.title = title\n",
    "        self.balance = balance\n",
    "    \n",
    "    def withdraw(self, amount):\n",
    "        self.balance = self.balance - amount\n",
    "        #print(\"After withdraw your remaining balance is :\",self.balance)\n",
    "        return self.balance\n",
    "\n",
    "    def deposit(self, amount):\n",
    "        self.balance = self.balance + amount\n",
    "        #print(\"After deposit your remaining balance is :\",self.balance)\n",
    "        return self.balance\n",
    "        \n",
    "    def getBalance(self):\n",
    "        return self.balance\n",
    "\n",
    "class SavingsAccount(Account):\n",
    "    def __init__(self, title=None, balance=0, interestRate=0):\n",
    "            super().__init__(title, balance)\n",
    "            self.interestRate = interestRate\n",
    "    \n",
    "    def interestAmount(self):\n",
    "        self.interestamount = (self.interestRate*self.balance)/100 \n",
    "        return int(self.interestamount)\n",
    "class Savingsclass(SavingsAccount):\n",
    "    def __init__(self,title,balance,intrestRate):\n",
    "        super().__init__(title,balance,intrestRate)\n",
    "\n",
    "Bank = Savingsclass(\"Prasad\",2000,5)\n",
    "print(Bank.deposit(500))\n",
    "print(Bank.withdraw(500))\n",
    "print(Bank.getBalance())\n",
    "print(Bank.interestAmount())"
   ]
  },
  {
   "cell_type": "code",
   "execution_count": 11,
   "id": "049b9795",
   "metadata": {},
   "outputs": [
    {
     "name": "stdout",
     "output_type": "stream",
     "text": [
      "None\n",
      "None\n",
      "2000\n",
      "100\n"
     ]
    }
   ],
   "source": [
    "# Challenge Normally Handling Bank Account\n",
    "class Account:\n",
    "    def __init__(self, title=None, balance=0):\n",
    "        self.title = title\n",
    "        self.balance = balance\n",
    "    \n",
    "    def withdraw(self, amount):\n",
    "        self.balance = self.balance - amount\n",
    "        #print(\"After withdraw your remaining balance is :\",self.balance)\n",
    "        return self.balance\n",
    "\n",
    "    def deposit(self, amount):\n",
    "        self.balance = self.balance + amount\n",
    "        #print(\"After deposit your remaining balance is :\",self.balance)\n",
    "        return self.balance\n",
    "        \n",
    "    def getBalance(self):\n",
    "        return self.balance\n",
    "\n",
    "class SavingsAccount(Account):\n",
    "    def __init__(self, title=None, balance=0, interestRate=0):\n",
    "            super().__init__(title, balance)\n",
    "            self.interestRate = interestRate\n",
    "    \n",
    "    def interestAmount(self):\n",
    "        self.interestamount = (self.interestRate*self.balance)/100 \n",
    "        return int(self.interestamount)\n",
    "\n",
    "Bank = SavingsAccount(\"Prasad\",2000,5)\n",
    "print(Bank.deposit(500))\n",
    "print(Bank.withdraw(500))\n",
    "print(Bank.getBalance())\n",
    "print(Bank.interestAmount())"
   ]
  },
  {
   "cell_type": "code",
   "execution_count": null,
   "id": "78177f6c",
   "metadata": {},
   "outputs": [],
   "source": []
  }
 ],
 "metadata": {
  "kernelspec": {
   "display_name": "Python 3 (ipykernel)",
   "language": "python",
   "name": "python3"
  },
  "language_info": {
   "codemirror_mode": {
    "name": "ipython",
    "version": 3
   },
   "file_extension": ".py",
   "mimetype": "text/x-python",
   "name": "python",
   "nbconvert_exporter": "python",
   "pygments_lexer": "ipython3",
   "version": "3.9.12"
  }
 },
 "nbformat": 4,
 "nbformat_minor": 5
}
