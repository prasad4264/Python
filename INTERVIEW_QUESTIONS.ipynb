{
 "cells": [
  {
   "cell_type": "code",
   "execution_count": null,
   "id": "bdd4e865",
   "metadata": {},
   "outputs": [],
   "source": [
    "# 1`. How many types of operators are there in python?\n",
    "         1.Arithmetic Operators (+ , - , * , / , % , // , **)\n",
    "         2.Comparison or Relational Operator (< , > , <= , >= , == , !=)\n",
    "         3.Assignment Operator (=)\n",
    "        4.Memebership Operator (in , not in)\n",
    "        5.Identity Operator (is , is not)\n",
    "        6.Logical Operator (and , or , not)\n",
    "        7.Bitwise Operator (& , | , ^ , << , >>)\n",
    "        8.Ternary operator (or) Conditional Operator"
   ]
  },
  {
   "cell_type": "code",
   "execution_count": null,
   "id": "130d42eb",
   "metadata": {},
   "outputs": [],
   "source": [
    "# 2. What is Mutable and Immutable?\n",
    "          Mutable :- This means that you can change their content without changing their identity.\n",
    "          Immutable :- This means that you can't perform any changes in that after creating it. \n",
    "                If you perform their identity will be changed."
   ]
  },
  {
   "cell_type": "code",
   "execution_count": null,
   "id": "0803078b",
   "metadata": {},
   "outputs": [],
   "source": [
    "# 3. What is the difference btween list and tuple?\n",
    "\n",
    "          list :-\n",
    "                1.list is represented with the help of square brackets.[]               \n",
    "                2.list is mutable.                                                                \n",
    "                3.list is slower when compared to the tuple                                         \n",
    "                4.list consumes more memeory \n",
    "                5.If you want to perform any updation like deletion, insertion etc then you should use list.\n",
    "                \n",
    "            tuple  :-\n",
    "                1. tuple is represented with  the hepl of parenthesis,()\n",
    "                2. tuple is immutable\n",
    "                3. tuple is Faster when compared to list\n",
    "                4. tuple consumes less memeory\n",
    "                5. tuple is useful to access the element"
   ]
  },
  {
   "cell_type": "code",
   "execution_count": null,
   "id": "c447bb48",
   "metadata": {},
   "outputs": [],
   "source": [
    "# 4. When Would You Use a List vs. a Tuple vs. a Set in Python?\n",
    "\n",
    "         A list is a common data type that is highly flexible. It can store a sequence of objects that are mutable, \n",
    "         so it is ideal for projects that demand the storage of objects that can be changed later.\n",
    "\n",
    "        A tuple is similar to a list in Python, but the key difference between them is that tuples are immutable. \n",
    "        They also use less space than lists and can only be used as a key in a dictionary. \n",
    "        Tuples are a perfect choice when you want a list of constants.\n",
    "\n",
    "        Sets are a collection of unique elements that are used in Python. \n",
    "        Sets are a good option when you want to avoid duplicate elements in your list. \n",
    "        This means that whenever you have two lists with common elements between them, you can leverage sets to eliminate them."
   ]
  },
  {
   "cell_type": "code",
   "execution_count": null,
   "id": "370069d2",
   "metadata": {},
   "outputs": [],
   "source": [
    "# 5. What is the difference between assignment operator (=) and comparison operator (==)?\n",
    "# Ans  :-\n",
    "          Assignment operator (=) will assign a value to the variable \n",
    "          Comparison Operator (==) will check weather they are contaoining same values or different values"
   ]
  },
  {
   "cell_type": "code",
   "execution_count": null,
   "id": "9b04e72b",
   "metadata": {},
   "outputs": [],
   "source": [
    "# 6. How many Datatypes are there in python? \n",
    "# Ans :- \n",
    "         Types of Datatypes in Python :-\n",
    "         1.Numeric Datatype: Int, Float , Complex\n",
    "        2.Sequence Datatype : List, String , tuples\n",
    "        3.Boolean Datatype: True and False\n",
    "        4.Dictionary\n",
    "        5.Set"
   ]
  },
  {
   "cell_type": "code",
   "execution_count": null,
   "id": "39406e94",
   "metadata": {},
   "outputs": [],
   "source": [
    "# 7. What will be the output of print(9//2)?\n",
    "# Ans :-\n",
    "        4"
   ]
  },
  {
   "cell_type": "code",
   "execution_count": null,
   "id": "8f80c518",
   "metadata": {},
   "outputs": [],
   "source": [
    "# 8. What is type conversion in Python?\n",
    "# Ans :-\n",
    "         Python provides you with a much-needed functionality of converting one form of data type into the needed one \n",
    "        and this is known as type conversion.\n",
    "\n",
    "        Type Conversion is classified into types:\n",
    "\n",
    "        1. Implicit Type Conversion:- In this form of type conversion python interpreter helps in automatically\n",
    "                                      converting the data type into another data type without any User involvement.\n",
    "\n",
    "        2. Explicit Type Conversion:- In this form of Type conversion the data type will be changed into a required type \n",
    "                                         by the user."
   ]
  },
  {
   "cell_type": "code",
   "execution_count": null,
   "id": "794b067e",
   "metadata": {},
   "outputs": [],
   "source": [
    "# 9. What are functions in Python?\n",
    "# Ans :-\n",
    "         A function is a block of code which is executed only when a call is made to the function. \n",
    "          def keyword is used to define a particular function."
   ]
  },
  {
   "cell_type": "code",
   "execution_count": null,
   "id": "8b37cacd",
   "metadata": {},
   "outputs": [],
   "source": [
    "# 10. What are local variables and global variables in Python?\n",
    "#Ans :-\n",
    "         Local variable :- Any variable declared inside a function is known as Local variable \n",
    "                             and it’s accessibility remains inside that function only.\n",
    "\n",
    "        Global Variable :- Any variable declared outside the function is known as Global variable \n",
    "                           and it can be easily accessible by any function present throughout the program."
   ]
  },
  {
   "cell_type": "code",
   "execution_count": null,
   "id": "a71d2d40",
   "metadata": {},
   "outputs": [],
   "source": [
    "# 11. What is a dictionary in Python?\n",
    "# Ans :-\n",
    "        Python dictionary is one of the supported data types in Python. \n",
    "        It is an unordered collection of elements. The elements in dictionaries are stored as key-value pairs. \n",
    "        Dictionaries are indexed by keys.\n",
    "\n",
    "        For example :- Below we have a dictionary named ‘dict’. It contains two keys, Country and Capital,\n",
    "                        along with their corresponding values, India and New Delhi.\n",
    "\n",
    "            Syntax:\n",
    "                    dict={‘Country’:’India’,’Capital’:’New Delhi’, }"
   ]
  },
  {
   "cell_type": "code",
   "execution_count": null,
   "id": "833d6825",
   "metadata": {},
   "outputs": [],
   "source": [
    "# 12. What is the purpose of if-else in Python?\n",
    "# Ans :-  \n",
    "       These are called as Conditional Statements or Decision Making Statements. \n",
    "       The if-else statement is used to execute both the true part and the false part of a given condition.\n",
    "        If the condition is true, the if block code is executed and if the condition is false, the else block code is executed."
   ]
  },
  {
   "cell_type": "code",
   "execution_count": null,
   "id": "a8a7fccb",
   "metadata": {},
   "outputs": [],
   "source": [
    "# 13. How many types of conditional statements are there in python?\n",
    "# Ans. :-\n",
    "        Python provides four conditional statements.In Python we can achieve decision making by using the following statements:\n",
    "        1. if statements.\n",
    "        2. if-else statements.\n",
    "        3. elif statements.\n",
    "        4. Nested if and if-else statements."
   ]
  },
  {
   "cell_type": "code",
   "execution_count": null,
   "id": "0524b768",
   "metadata": {},
   "outputs": [],
   "source": [
    "# 14. How do you reduce if-else in Python?\n",
    "# Ans :-\n",
    "         By using If/Else Statements in One Line To simplify the code and reduce the number of lines \n",
    "         in the conditional statements, you can use an inline if conditional statement. "
   ]
  },
  {
   "cell_type": "code",
   "execution_count": null,
   "id": "dabe2e37",
   "metadata": {},
   "outputs": [],
   "source": [
    "# 15. How do you call a function in if condition Python?\n",
    "# Ans :-\n",
    "         To call a function, you have to write the function name followed by parenthesis containing the parameters \n",
    "          you want to pass to the method"
   ]
  },
  {
   "cell_type": "code",
   "execution_count": null,
   "id": "26887ad4",
   "metadata": {},
   "outputs": [],
   "source": [
    "# 16. What is Elif programming?\n",
    "# Ans :-\n",
    "         The elif keyword is used in conditional statements (if statements), and is short for else if."
   ]
  },
  {
   "cell_type": "code",
   "execution_count": null,
   "id": "b25a8212",
   "metadata": {},
   "outputs": [],
   "source": [
    "# 17. Is python case sensitive?\n",
    "# Ans :-\n",
    "         Yes, Python is a case sensitive language. This means that Function and function both are different in python \n",
    "         like SQL and Pascal."
   ]
  },
  {
   "cell_type": "code",
   "execution_count": null,
   "id": "5a58764a",
   "metadata": {},
   "outputs": [],
   "source": [
    "# 18. Is indentation required in Python?\n",
    "# Ans :-\n",
    "         Indentation in Python is compulsory and is part of its syntax.\n",
    "         All programming languages have some way of defining the scope and extent of the block of codes. \n",
    "         In Python, it is indentation. Indentation provides better readability to the code, \n",
    "            which is probably why Python has made it compulsory."
   ]
  },
  {
   "cell_type": "code",
   "execution_count": null,
   "id": "a6932097",
   "metadata": {},
   "outputs": [],
   "source": [
    "# 19. How many types of statements are there in python?\n",
    "# Ans :-\n",
    "          Types of Statements in Python :-\n",
    "            1. Conditional Statement --> if elif and else\n",
    "            2. Iterative Statement --> for and while\n",
    "            3. Transfer Statement --> break, continue"
   ]
  },
  {
   "cell_type": "code",
   "execution_count": null,
   "id": "54607465",
   "metadata": {},
   "outputs": [],
   "source": [
    "# 20. What is meant by iterative statement?\n",
    "# Ans :-\n",
    "          Iterative Statement :- when we want to execute a group of statement multiple times then we will\n",
    "                                  use iterative statements. These are also called as loops\n",
    "                                  In python we are having two types of iterative statement:\n",
    "                                   1. for loop\n",
    "                                   2. while loop"
   ]
  },
  {
   "cell_type": "code",
   "execution_count": null,
   "id": "48839d4f",
   "metadata": {},
   "outputs": [],
   "source": [
    "# 21. When will we use for loop?\n",
    "# Ans :-\n",
    "          for loop is basically used when we know the number of iterations or sequence."
   ]
  },
  {
   "cell_type": "code",
   "execution_count": null,
   "id": "8ef273ff",
   "metadata": {},
   "outputs": [],
   "source": [
    "# 22. When will we use while loop?\n",
    "# Ans :-\n",
    "          while loop will be used if we want to execute a group of statement based on certain condition."
   ]
  },
  {
   "cell_type": "code",
   "execution_count": null,
   "id": "fcf77cd0",
   "metadata": {},
   "outputs": [],
   "source": [
    "# 23. How does break, continue, and pass work?\n",
    "# Ans :-\n",
    "          These statements help to change the phase of execution from the normal flow that is \n",
    "           why they are termed as loop control statements.\n",
    "\n",
    "          Python break: This statement helps terminate the loop or the statement and pass the control to the next statement.\n",
    "\n",
    "        Python continue: This statement helps force the execution of the next iteration when a specific condition meets,\n",
    "                         instead of terminating it.\n",
    "\n",
    "        Python pass: This statement helps write the code syntactically and wants to skip the execution. \n",
    "                     It is also considered a null operation as nothing happens when you execute the pass statement."
   ]
  },
  {
   "cell_type": "code",
   "execution_count": null,
   "id": "0c9e40e3",
   "metadata": {},
   "outputs": [],
   "source": [
    "# 24. How many types of functions are there in python?\n",
    "# Ans :-\n",
    "        1. Userdefined Functions :- Functions that are developed by the developer as per business\n",
    "                                        requirements.\n",
    "                                        Example :-\n",
    "                                                    add()\n",
    "                                                     subtract()\n",
    "        2. Builtin Functions --> Functions that are already defined by the python virtual machine\n",
    "                                  we need not to define those function we will simply call those functions \n",
    "                                  and use that function.     \n",
    "                                 Example:\n",
    "                                          id()\n",
    "                                          type() \n",
    "                                          print() "
   ]
  },
  {
   "cell_type": "code",
   "execution_count": null,
   "id": "28acf1de",
   "metadata": {},
   "outputs": [],
   "source": [
    "# 25. What are python iterators?\n",
    "# Ans :-\n",
    "         These are the certain objects that are easily traversed and iterated when needed."
   ]
  }
 ],
 "metadata": {
  "kernelspec": {
   "display_name": "Python 3 (ipykernel)",
   "language": "python",
   "name": "python3"
  },
  "language_info": {
   "codemirror_mode": {
    "name": "ipython",
    "version": 3
   },
   "file_extension": ".py",
   "mimetype": "text/x-python",
   "name": "python",
   "nbconvert_exporter": "python",
   "pygments_lexer": "ipython3",
   "version": "3.9.13"
  }
 },
 "nbformat": 4,
 "nbformat_minor": 5
}
