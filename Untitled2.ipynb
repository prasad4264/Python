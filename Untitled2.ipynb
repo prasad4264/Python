{
 "cells": [
  {
   "cell_type": "code",
   "execution_count": null,
   "id": "a0fe77ee",
   "metadata": {},
   "outputs": [],
   "source": [
    "﻿Your task is to complete the validate_triangle and validate_rectangle functions for the classes.\n",
    "    Hint for validating is given in the\n",
    "\n",
    "comments of the code. Also you will have to print the following after validation in respective functions:-\n",
    "\n",
    "1.Invalid Triangle: If the triangle sum property of sides is not valid(More hint in the comments of code)\n",
    "\n",
    "2.Valid Triangle:If the triangle sum property of sides is valid.\n",
    "\n",
    "3.Valid Rectangle:If 2 side pairs are same and they are input in correct order like l,b,l,b\n",
    "\n",
    "4.Invalid Rectangle: If Not Valid rectangle as stated above."
   ]
  },
  {
   "cell_type": "code",
   "execution_count": 4,
   "id": "17caf141",
   "metadata": {},
   "outputs": [
    {
     "name": "stdout",
     "output_type": "stream",
     "text": [
      "Enter side 1 of triangle: 3\n",
      "Enter side 2 of triangle: 4\n",
      "Enter side 3 of triangle: 5\n",
      "Valid Triangle\n",
      "Enter side 1 of rectangle: 2\n",
      "Enter side 2 of rectangle: 4\n",
      "Enter side 3 of rectangle: 2\n",
      "Enter side 4 of rectangle: 4\n",
      "Valid Rectangle\n"
     ]
    }
   ],
   "source": [
    "\n",
    "class Shape:\n",
    "    def validate_triangle(self, a, b, c):\n",
    "        if a + b > c and a + c > b and b + c > a:\n",
    "            print(\"Valid Triangle\")\n",
    "        else:\n",
    "            print(\"Invalid Triangle\")\n",
    "\n",
    "    def validate_rectangle(self,l1,b1,l2,b2):\n",
    "        if l1 == l2 and b1 == b2:\n",
    "            print(\"Valid Rectangle\")\n",
    "        else:\n",
    "            print(\"Invalid Rectangle\")\n",
    "\n",
    "# creating object of class\n",
    "s = Shape()\n",
    "\n",
    "# getting sides of triangle from user\n",
    "a = int(input(\"Enter side 1 of triangle: \"))\n",
    "b = int(input(\"Enter side 2 of triangle: \"))\n",
    "c = int(input(\"Enter side 3 of triangle: \"))\n",
    "\n",
    "# calling validate_triangle function\n",
    "s.validate_triangle(a, b, c)\n",
    "\n",
    "# getting sides of rectangle from user\n",
    "l1 = int(input(\"Enter side 1 of rectangle: \"))\n",
    "b1 = int(input(\"Enter side 2 of rectangle: \"))\n",
    "l2 = int(input(\"Enter side 3 of rectangle: \"))\n",
    "b2 = int(input(\"Enter side 4 of rectangle: \"))\n",
    "\n",
    "# calling validate_rectangle function\n",
    "s.validate_rectangle(l1,b1,l2,b2)"
   ]
  },
  {
   "cell_type": "code",
   "execution_count": null,
   "id": "d05b444e",
   "metadata": {},
   "outputs": [],
   "source": []
  }
 ],
 "metadata": {
  "kernelspec": {
   "display_name": "Python 3 (ipykernel)",
   "language": "python",
   "name": "python3"
  },
  "language_info": {
   "codemirror_mode": {
    "name": "ipython",
    "version": 3
   },
   "file_extension": ".py",
   "mimetype": "text/x-python",
   "name": "python",
   "nbconvert_exporter": "python",
   "pygments_lexer": "ipython3",
   "version": "3.9.13"
  }
 },
 "nbformat": 4,
 "nbformat_minor": 5
}
