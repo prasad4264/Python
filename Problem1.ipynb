{
 "cells": [
  {
   "cell_type": "code",
   "execution_count": null,
   "id": "050bdd93",
   "metadata": {},
   "outputs": [],
   "source": [
    "You will have a number of elements and in the next n lines element of a list.\n",
    "You have to create a list from the given strings. \n",
    "You have to sort the list based on 2nd last character of a string."
   ]
  },
  {
   "cell_type": "code",
   "execution_count": 2,
   "id": "3e7c3a85",
   "metadata": {},
   "outputs": [
    {
     "name": "stdout",
     "output_type": "stream",
     "text": [
      "4\n",
      "hello hii how are\n",
      "The sorted list is :\n",
      "['hii', 'hello', 'how', 'are']\n"
     ]
    }
   ],
   "source": [
    "\n",
    "num = int(input())\n",
    "list1 = list(map(str, input().lower().split()))\n",
    "for ele in list1:\n",
    "    if len(ele) >= 2:\n",
    "        list1.sort(key = lambda x: x[-2])\n",
    "        print('The sorted list is :')\n",
    "        print(list1)\n",
    "        break\n",
    "    else:\n",
    "        print('The length of the string in given list is less than 1')\n",
    "        break"
   ]
  },
  {
   "cell_type": "code",
   "execution_count": null,
   "id": "72e17c36",
   "metadata": {},
   "outputs": [],
   "source": []
  }
 ],
 "metadata": {
  "kernelspec": {
   "display_name": "Python 3 (ipykernel)",
   "language": "python",
   "name": "python3"
  },
  "language_info": {
   "codemirror_mode": {
    "name": "ipython",
    "version": 3
   },
   "file_extension": ".py",
   "mimetype": "text/x-python",
   "name": "python",
   "nbconvert_exporter": "python",
   "pygments_lexer": "ipython3",
   "version": "3.9.13"
  }
 },
 "nbformat": 4,
 "nbformat_minor": 5
}
